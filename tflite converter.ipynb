{
 "cells": [
  {
   "cell_type": "code",
   "execution_count": null,
   "id": "dcaaa97a",
   "metadata": {},
   "outputs": [
    {
     "name": "stderr",
     "output_type": "stream",
     "text": [
      "WARNING:absl:Found untraced functions such as _jit_compiled_convolution_op, _jit_compiled_convolution_op, _jit_compiled_convolution_op, _jit_compiled_convolution_op, _jit_compiled_convolution_op while saving (showing 5 of 52). These functions will not be directly callable after loading.\n"
     ]
    },
    {
     "name": "stdout",
     "output_type": "stream",
     "text": [
      "INFO:tensorflow:Assets written to: C:\\Users\\deninjo\\AppData\\Local\\Temp\\tmpo9n_sylg\\assets\n"
     ]
    },
    {
     "name": "stderr",
     "output_type": "stream",
     "text": [
      "INFO:tensorflow:Assets written to: C:\\Users\\deninjo\\AppData\\Local\\Temp\\tmpo9n_sylg\\assets\n"
     ]
    },
    {
     "name": "stdout",
     "output_type": "stream",
     "text": [
      "Conversion complete! File saved as mobilenetv2_v1_44_0.996.tflite\n"
     ]
    }
   ],
   "source": [
    "import tensorflow as tf\n",
    "from tensorflow import keras\n",
    "\n",
    "# Load the Keras model\n",
    "model = keras.models.load_model('mobilenetv2_v1_44_0.996.h5')\n",
    "\n",
    "# Convert the model to TensorFlow Lite format\n",
    "converter = tf.lite.TFLiteConverter.from_keras_model(model)\n",
    "tflite_model = converter.convert()\n",
    "\n",
    "# Save the TFLite model to a file\n",
    "with open('mobilenetv2_v1_44_0.996.tflite', 'wb') as f:\n",
    "    f.write(tflite_model)\n",
    "\n",
    "print(\"Conversion complete! File saved as mobilenetv2_v1_44_0.996.tflite\")"
   ]
  },
  {
   "cell_type": "code",
   "execution_count": 5,
   "id": "52e461a2",
   "metadata": {},
   "outputs": [
    {
     "name": "stdout",
     "output_type": "stream",
     "text": [
      "Predicted class: Blight (80.81%)\n",
      "\n",
      "Top probabilities:\n",
      "Blight: 0.8081\n",
      "Gray Leaf Spot: 0.1919\n",
      "Common Rust: 0.0000\n",
      "Healthy: 0.0000\n"
     ]
    }
   ],
   "source": [
    "import numpy as np\n",
    "import tensorflow as tf\n",
    "from tensorflow.keras.preprocessing import image\n",
    "import os\n",
    "\n",
    "# ====== CONFIGURATION ======\n",
    "image_path = 'test-image.jfif'  # <-- Set your image path here\n",
    "model_path = 'mobilenetv2_v1_44_0.996.tflite'  # <-- Path to your .tflite model\n",
    "image_size = 224\n",
    "class_names = sorted(os.listdir('maize-leaf-dataset'))  # adjust path if needed\n",
    "\n",
    "# ====== LOAD AND PREPROCESS IMAGE ======\n",
    "img = image.load_img(image_path, target_size=(image_size, image_size))\n",
    "img_array = image.img_to_array(img)\n",
    "img_array_normalized = img_array / 255.0\n",
    "img_array_expanded = np.expand_dims(img_array_normalized, axis=0).astype(np.float32)\n",
    "\n",
    "# ====== LOAD TFLITE MODEL ======\n",
    "interpreter = tf.lite.Interpreter(model_path=model_path)\n",
    "interpreter.allocate_tensors()\n",
    "\n",
    "input_index = interpreter.get_input_details()[0]['index']\n",
    "output_index = interpreter.get_output_details()[0]['index']\n",
    "\n",
    "# ====== RUN INFERENCE ======\n",
    "interpreter.set_tensor(input_index, img_array_expanded)\n",
    "interpreter.invoke()\n",
    "preds = interpreter.get_tensor(output_index)[0]\n",
    "\n",
    "# ====== DISPLAY PREDICTIONS ======\n",
    "predicted_index = np.argmax(preds)\n",
    "predicted_class = class_names[predicted_index]\n",
    "confidence = preds[predicted_index]\n",
    "\n",
    "print(f\"Predicted class: {predicted_class} ({confidence:.2%})\")\n",
    "print(\"\\nTop probabilities:\")\n",
    "for i in np.argsort(preds)[::-1]:\n",
    "    print(f\"{class_names[i]}: {preds[i]:.4f}\")\n"
   ]
  },
  {
   "cell_type": "code",
   "execution_count": 4,
   "id": "a90b7b52",
   "metadata": {},
   "outputs": [
    {
     "name": "stderr",
     "output_type": "stream",
     "text": [
      "WARNING:absl:Found untraced functions such as _jit_compiled_convolution_op, _jit_compiled_convolution_op, _jit_compiled_convolution_op while saving (showing 3 of 3). These functions will not be directly callable after loading.\n"
     ]
    },
    {
     "name": "stdout",
     "output_type": "stream",
     "text": [
      "INFO:tensorflow:Assets written to: C:\\Users\\deninjo\\AppData\\Local\\Temp\\tmpsagnpqve\\assets\n"
     ]
    },
    {
     "name": "stderr",
     "output_type": "stream",
     "text": [
      "INFO:tensorflow:Assets written to: C:\\Users\\deninjo\\AppData\\Local\\Temp\\tmpsagnpqve\\assets\n"
     ]
    },
    {
     "name": "stdout",
     "output_type": "stream",
     "text": [
      "Conversion complete! File saved as mobilenetv2_v1_44_0.996.tflite\n"
     ]
    }
   ],
   "source": [
    "import tensorflow as tf\n",
    "from tensorflow import keras\n",
    "\n",
    "# Load the Keras model\n",
    "model = keras.models.load_model('GUI\\maize_detector_V1_23_0.990.h5')\n",
    "\n",
    "# Convert the model to TensorFlow Lite format\n",
    "converter = tf.lite.TFLiteConverter.from_keras_model(model)\n",
    "tflite_model = converter.convert()\n",
    "\n",
    "# Save the TFLite model to a file\n",
    "with open('maize_detector_V1_23_0.990.tflite', 'wb') as f:\n",
    "    f.write(tflite_model)\n",
    "\n",
    "print(\"Conversion complete! File saved as mobilenetv2_v1_44_0.996.tflite\")"
   ]
  },
  {
   "cell_type": "code",
   "execution_count": null,
   "id": "4828de82",
   "metadata": {},
   "outputs": [],
   "source": []
  }
 ],
 "metadata": {
  "kernelspec": {
   "display_name": "Python 3",
   "language": "python",
   "name": "python3"
  },
  "language_info": {
   "codemirror_mode": {
    "name": "ipython",
    "version": 3
   },
   "file_extension": ".py",
   "mimetype": "text/x-python",
   "name": "python",
   "nbconvert_exporter": "python",
   "pygments_lexer": "ipython3",
   "version": "3.9.13"
  }
 },
 "nbformat": 4,
 "nbformat_minor": 5
}
